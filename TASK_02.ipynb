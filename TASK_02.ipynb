{
 "cells": [
  {
   "cell_type": "code",
   "execution_count": null,
   "id": "4db330b5",
   "metadata": {},
   "outputs": [],
   "source": [
    "import cv2\n",
    "import os"
   ]
  },
  {
   "cell_type": "code",
   "execution_count": null,
   "id": "58966a1f",
   "metadata": {},
   "outputs": [],
   "source": [
    "desktop_path = os.path.expanduser(\"~/Desktop\")\n",
    "frames_folder = os.path.join(desktop_path, \"output\")\n",
    "output_video_path = os.path.join(desktop_path, \"output_video.mp4\")"
   ]
  },
  {
   "cell_type": "code",
   "execution_count": null,
   "id": "9ebd4c02",
   "metadata": {},
   "outputs": [],
   "source": [
    "frame_files = sorted([f for f in os.listdir(frames_folder) if f.endswith('.png')])"
   ]
  },
  {
   "cell_type": "code",
   "execution_count": null,
   "id": "c93a1e68",
   "metadata": {},
   "outputs": [],
   "source": [
    "first_frame = cv2.imread(os.path.join(frames_folder, frame_files[0]))\n",
    "height, width, layers = first_frame.shape"
   ]
  },
  {
   "cell_type": "code",
   "execution_count": null,
   "id": "0751c575",
   "metadata": {},
   "outputs": [],
   "source": [
    "fourcc = cv2.VideoWriter_fourcc(*'mp4v')  # Codec for .mp4 format\n",
    "out = cv2.VideoWriter(output_video_path, fourcc, 30, (width, height))"
   ]
  },
  {
   "cell_type": "code",
   "execution_count": null,
   "id": "d0877567",
   "metadata": {},
   "outputs": [],
   "source": [
    "for frame_file in frame_files:\n",
    "    frame_path = os.path.join(frames_folder, frame_file)\n",
    "    frame = cv2.imread(frame_path)\n",
    "    out.write(frame)\n",
    "\n",
    "# Release the VideoWriter\n",
    "out.release()\n",
    "\n",
    "print(\"Video created successfully.\")"
   ]
  },
  {
   "cell_type": "code",
   "execution_count": null,
   "id": "59074f20",
   "metadata": {},
   "outputs": [],
   "source": []
  },
  {
   "cell_type": "code",
   "execution_count": null,
   "id": "ddbef6f4",
   "metadata": {},
   "outputs": [],
   "source": []
  }
 ],
 "metadata": {
  "kernelspec": {
   "display_name": "Python 3 (ipykernel)",
   "language": "python",
   "name": "python3"
  },
  "language_info": {
   "codemirror_mode": {
    "name": "ipython",
    "version": 3
   },
   "file_extension": ".py",
   "mimetype": "text/x-python",
   "name": "python",
   "nbconvert_exporter": "python",
   "pygments_lexer": "ipython3",
   "version": "3.9.13"
  }
 },
 "nbformat": 4,
 "nbformat_minor": 5
}
